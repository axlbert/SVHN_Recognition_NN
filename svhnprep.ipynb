{
 "cells": [
  {
   "cell_type": "code",
   "execution_count": 16,
   "metadata": {
    "collapsed": false
   },
   "outputs": [],
   "source": [
    "from __future__ import print_function\n",
    "import matplotlib.pyplot as plt\n",
    "from PIL import Image\n",
    "import site\n",
    "import numpy as np\n",
    "import os\n",
    "import sys\n",
    "import tarfile\n",
    "from IPython.display import display\n",
    "from IPython.display import Image as image2\n",
    "#from PIL import Image\n",
    "from scipy import ndimage\n",
    "from os.path import isfile, join\n",
    "import h5py\n",
    "\n",
    "from sklearn.linear_model import LogisticRegression\n",
    "from six.moves.urllib.request import urlretrieve\n",
    "from six.moves import cPickle as pickle\n",
    "\n",
    "\n",
    "# the usual beautification line\n",
    "%matplotlib inline\n"
   ]
  },
  {
   "cell_type": "code",
   "execution_count": 17,
   "metadata": {
    "collapsed": false
   },
   "outputs": [
    {
     "name": "stdout",
     "output_type": "stream",
     "text": [
      "Found and verified train.tar.gz\n",
      "Found and verified test.tar.gz\n"
     ]
    }
   ],
   "source": [
    "###this first part is more or lest unchanged from the not_mnist exerise###\n",
    "\n",
    "url = 'http://ufldl.stanford.edu/housenumbers/'\n",
    "last_percent_reported = None\n",
    "\n",
    "def download_progress_hook(count, blockSize, totalSize):\n",
    "  \"\"\"A hook to report the progress of a download. This is mostly intended for users with\n",
    "  slow internet connections. Reports every 1% change in download progress.\n",
    "  \"\"\"\n",
    "  global last_percent_reported\n",
    "  percent = int(count * blockSize * 100 / totalSize)\n",
    "\n",
    "  if last_percent_reported != percent:\n",
    "    if percent % 5 == 0:\n",
    "      sys.stdout.write(\"%s%%\" % percent)\n",
    "      sys.stdout.flush()\n",
    "    else:\n",
    "      sys.stdout.write(\".\")\n",
    "      sys.stdout.flush()\n",
    "      \n",
    "    last_percent_reported = percent\n",
    "        \n",
    "def maybe_download(filename, expected_bytes, force=False):\n",
    "  \"\"\"Download a file if not present, and make sure it's the right size.\"\"\"\n",
    "  if force or not os.path.exists(filename):\n",
    "    print('Attempting to download:', filename) \n",
    "    filename, _ = urlretrieve(url + filename, filename, reporthook=download_progress_hook)\n",
    "    print('\\nDownload Complete!')\n",
    "  statinfo = os.stat(filename)\n",
    "  if statinfo.st_size == expected_bytes:\n",
    "    print('Found and verified', filename)\n",
    "  else:\n",
    "    #print(statinfo.st_size)\n",
    "    raise Exception(\n",
    "      'Failed to verify ' + filename + '. Can you get to it with a browser?')\n",
    "  return filename\n",
    "\n",
    "train_filename = maybe_download('train.tar.gz',404141560)\n",
    "test_filename = maybe_download('test.tar.gz',276555967)\n"
   ]
  },
  {
   "cell_type": "code",
   "execution_count": 18,
   "metadata": {
    "collapsed": false
   },
   "outputs": [
    {
     "name": "stdout",
     "output_type": "stream",
     "text": [
      "train already present - Skipping extraction of train.tar.gz.\n",
      "test already present - Skipping extraction of test.tar.gz.\n",
      "folder test sample: ['1.png', '10.png', '100.png', '1000.png', '10000.png']\n",
      "folder train sample: ['24634.png', '1.png', '10.png', '100.png', '1000.png'] \n"
     ]
    }
   ],
   "source": [
    "###triggering the tar gz file extraction and presenting a sample of files in the unzipped folder###\n",
    "\n",
    "num_classes = 10\n",
    "np.random.seed(133)\n",
    "\n",
    "def maybe_extract(filename, force=False):\n",
    "  root = os.path.splitext(os.path.splitext(filename)[0])[0]  # remove .tar.gz\n",
    "  if os.path.isdir(root) and not force:\n",
    "    # You may override by setting force=True.\n",
    "    print('%s already present - Skipping extraction of %s.' % (root, filename))\n",
    "  else:\n",
    "    print('Extracting data for %s. This may take a while. Please wait.' % root)\n",
    "    tar = tarfile.open(filename)\n",
    "    sys.stdout.flush()\n",
    "    tar.extractall()\n",
    "    tar.close()\n",
    "  \n",
    "train_folders = maybe_extract(train_filename)\n",
    "test_folders = maybe_extract(test_filename)\n",
    "\n",
    "print(\"folder test sample: %s\" % os.listdir('test')[:5])\n",
    "print(\"folder train sample: %s \" % os.listdir('train')[:5])"
   ]
  },
  {
   "cell_type": "code",
   "execution_count": 19,
   "metadata": {
    "collapsed": false
   },
   "outputs": [],
   "source": [
    "testfiles = [f for f in os.listdir('test') if isfile(join('test', f))]\n",
    "trainfiles = [f for f in os.listdir('train') if isfile(join('train', f))]"
   ]
  },
  {
   "cell_type": "code",
   "execution_count": 20,
   "metadata": {
    "collapsed": false
   },
   "outputs": [
    {
     "data": {
      "image/png": "[encoded data removed]",
      "text/plain": [
       "<IPython.core.display.Image object>"
      ]
     },
     "metadata": {},
     "output_type": "display_data"
    },
    {
     "data": {
      "image/png": "[encoded data removed]",
      "text/plain": [
       "<IPython.core.display.Image object>"
      ]
     },
     "metadata": {},
     "output_type": "display_data"
    }
   ],
   "source": [
    "display(image2(filename=\"test/1.png\"))\n",
    "display(image2(filename=\"train/24634.png\"))"
   ]
  },
  {
   "cell_type": "code",
   "execution_count": 21,
   "metadata": {
    "collapsed": false
   },
   "outputs": [],
   "source": [
    "#print (testfiles)[:5]\n",
    "#dim_array1 = []\n",
    "#def get_dimensions(archives):\n",
    "# for i in archives:\n",
    " #   with Image.open(\"train/\"+i) as im:\n",
    "  #      width, height = im.size\n",
    "   #     dim_array1.append((width,height))\n",
    "#get_dimensions(testfiles)\n",
    "\n",
    "#print(dim_array1[:5])\n",
    "####IOError: cannot identify image file 'train/digitStruct.mat'"
   ]
  },
  {
   "cell_type": "code",
   "execution_count": 22,
   "metadata": {
    "collapsed": false
   },
   "outputs": [],
   "source": [
    "   # file=h5py.File(\"train/digitStruct.mat\")\n",
    "    \n",
    "    #file.keys()\n",
    "   # file['digitStruct'].keys()\n",
    "    #file['digitStruct']['name'][1][0]\n",
    "    #file['digitStruct']['name'].shape[0]\n",
    "    #docname = file[file['digitStruct']['name'][1][0]].value.tostring()\n",
    "    #for i in range(0,5):\n",
    "     #   print(file[file['digitStruct']['name'][0][0]][i])\n",
    "    #file['digitStruct']['bbox'].shape[0]\n",
    "  #  obj = file['digitStruct']['bbox'][0]\n",
    "   # print(obj)"
   ]
  },
  {
   "cell_type": "code",
   "execution_count": 29,
   "metadata": {
    "collapsed": false
   },
   "outputs": [],
   "source": [
    "def get_attr(f,i,attr):\n",
    "    attr = f[f['digitStruct']['bbox'][i][0]][attr].value.squeeze()\n",
    "    try:\n",
    "        return list(np.array([f[x].value for x in attr]).squeeze())\n",
    "    except:\n",
    "        return list(attr.reshape(-1))\n",
    "    #will complain about \"iteration over 1D array\" without the above \n",
    "\n",
    "def format_name(file,i):\n",
    "    name = file[file[\"digitStruct\"][\"name\"][i][0]].value.tostring()\n",
    "    name = name.replace('\\x00','')\n",
    "    return name \n",
    "    \n",
    "\n",
    "def get_data(path):\n",
    "    filename = h5py.File(path)\n",
    "    picarray = filename['digitStruct']['name'].shape[0]\n",
    "    images = []\n",
    "    labels = []\n",
    "    heights = []\n",
    "    widths = []\n",
    "    tops = []\n",
    "    lefts = []\n",
    "    \n",
    "    print(path)\n",
    "    for picno in range(0,picarray):\n",
    "        #images.append(filename[filename[\"digitStruct\"][\"name\"][picno][0]].value.tostring())\n",
    "        #print(images)\n",
    "        images.append(format_name(filename, picno))\n",
    "        #print(images)\n",
    "        labels.append(get_attr(filename, picno, 'label'))\n",
    "        heights.append(get_attr(filename, picno, 'height'))\n",
    "        widths.append(get_attr(filename, picno, 'width'))\n",
    "        lefts.append(get_attr(filename, picno, 'left'))\n",
    "        tops.append(get_attr(filename, picno, 'top'))\n",
    "        \n",
    "        if (picno % 10000 == 0):\n",
    "            print(picno)\n",
    "        if (picno % 5000 == 0):\n",
    "            print('another 5k')\n",
    "    \n",
    "    return np.array(images),np.array(labels),np.array(heights),np.array(widths),np.array(lefts),np.array(tops)\n",
    "\n"
   ]
  },
  {
   "cell_type": "code",
   "execution_count": 31,
   "metadata": {
    "collapsed": true
   },
   "outputs": [],
   "source": [
    "def create_dataset(): # Get Metadata for each dataset\n",
    "    train_dataset = dict()\n",
    "    test_dataset = dict()\n",
    "    train_dataset[\"images\"],train_dataset[\"labels\"],train_dataset[\"heights\"],train_dataset[\"widths\"],\\\n",
    "    train_dataset[\"lefts\"],train_dataset[\"tops\"] = get_data(\"train/digitStruct.mat\")\n",
    "    test_dataset[\"images\"],test_dataset[\"labels\"],test_dataset[\"heights\"],test_dataset[\"widths\"],\\\n",
    "    test_dataset[\"lefts\"],test_dataset[\"tops\"] = get_data(\"test/digitStruct.mat\")\n",
    "    return train_dataset,test_dataset"
   ]
  },
  {
   "cell_type": "code",
   "execution_count": 32,
   "metadata": {
    "collapsed": false
   },
   "outputs": [],
   "source": [
    "pickle_file = 'SVHN.pickle'\n",
    "\n",
    "dataset={\n",
    "    'train_dataset':train_dataset,\n",
    "    'test_dataset':test_dataset\n",
    "}\n",
    "\n",
    "with open(pickle_file, 'wb') as picklefile:\n",
    "    pickle.dump(dataset, picklefile, pickle.HIGHEST_PROTOCOL)\n",
    "picklefile.close()\n",
    "\n"
   ]
  },
  {
   "cell_type": "code",
   "execution_count": 33,
   "metadata": {
    "collapsed": false
   },
   "outputs": [
    {
     "name": "stdout",
     "output_type": "stream",
     "text": [
      "train/digitStruct.mat\n",
      "0\n",
      "another 5k\n",
      "another 5k\n",
      "10000\n",
      "another 5k\n",
      "another 5k\n",
      "20000\n",
      "another 5k\n",
      "another 5k\n",
      "30000\n",
      "another 5k\n",
      "test/digitStruct.mat\n",
      "0\n",
      "another 5k\n",
      "another 5k\n",
      "10000\n",
      "another 5k\n"
     ]
    }
   ],
   "source": [
    "train_dataset,test_dataset = create_dataset()"
   ]
  },
  {
   "cell_type": "code",
   "execution_count": 62,
   "metadata": {
    "collapsed": false
   },
   "outputs": [],
   "source": [
    "with open(pickle_file, 'rb') as f:\n",
    "    save = pickle.load(f)\n",
    "    train_dataset = save['train_dataset']\n",
    "    test_dataset = save['test_dataset']\n",
    "    del save"
   ]
  },
  {
   "cell_type": "code",
   "execution_count": 63,
   "metadata": {
    "collapsed": false
   },
   "outputs": [
    {
     "name": "stdout",
     "output_type": "stream",
     "text": [
      "Compressed pickle size: 12664823\n"
     ]
    }
   ],
   "source": [
    "statinfo = os.stat(pickle_file)\n",
    "print('Compressed pickle size:', statinfo.st_size)"
   ]
  },
  {
   "cell_type": "code",
   "execution_count": 64,
   "metadata": {
    "collapsed": false
   },
   "outputs": [
    {
     "name": "stdout",
     "output_type": "stream",
     "text": [
      "[32.0, 32.0]\n"
     ]
    }
   ],
   "source": [
    "obj = train_dataset['heights'][1]\n",
    "print(obj)\n",
    "\n",
    "def boundingbox(file,pxlabel):\n",
    "    details= []\n",
    "    for i in file[pxlabel]:\n",
    "        #print(i)\n",
    "        for y in i:\n",
    "            details.append(y)\n",
    "    return details"
   ]
  },
  {
   "cell_type": "code",
   "execution_count": 65,
   "metadata": {
    "collapsed": false
   },
   "outputs": [],
   "source": [
    "list_height_train=boundingbox(train_dataset,'heights')\n",
    "list_height_test=boundingbox(test_dataset,'heights')\n",
    "list_width_train=boundingbox(train_dataset,'widths')\n",
    "list_width_test=boundingbox(test_dataset,'widths')"
   ]
  },
  {
   "cell_type": "code",
   "execution_count": 66,
   "metadata": {
    "collapsed": false
   },
   "outputs": [
    {
     "name": "stdout",
     "output_type": "stream",
     "text": [
      "[219.0, 219.0, 32.0, 32.0, 15.0]\n",
      "[30.0, 23.0, 23.0, 23.0, 16.0]\n",
      "[81.0, 96.0, 23.0, 26.0, 8.0]\n",
      "[19.0, 14.0, 8.0, 12.0, 11.0]\n"
     ]
    }
   ],
   "source": [
    "print(list_height_train[:5])\n",
    "print(list_height_test[:5])\n",
    "print(list_width_train[:5])\n",
    "print(list_width_test[:5])"
   ]
  },
  {
   "cell_type": "code",
   "execution_count": 67,
   "metadata": {
    "collapsed": false
   },
   "outputs": [
    {
     "data": {
      "text/plain": [
       "2"
      ]
     },
     "execution_count": 67,
     "metadata": {},
     "output_type": "execute_result"
    }
   ],
   "source": [
    "train_dataset[\"images\"].shape[0]\n",
    "train_dataset[\"images\"][-1]\n",
    "train_dataset[\"labels\"][50]\n",
    "len(train_dataset[\"labels\"][82])"
   ]
  },
  {
   "cell_type": "code",
   "execution_count": 68,
   "metadata": {
    "collapsed": true
   },
   "outputs": [],
   "source": [
    "del_list = []\n",
    "\n",
    "def create_dataset(path,data):\n",
    "    #number of images\n",
    "    length=data['images'].shape[0]\n",
    "    #array format considering number of images, image dimensions and r g b values\n",
    "    dataset = np.ndarray([length,32,32,3], dtype='float32')\n",
    "    #creating an array of ones where the digit labels are to be stored\n",
    "    labels = np.ones([length,6], dtype=int) *10\n",
    "    \n",
    "    #for each image...\n",
    "    for i in np.arange(length):\n",
    "        #retrieve file name, file location and load image\n",
    "        image_name = data['images'][i]\n",
    "        path_image = os.path.join(path,image_name)\n",
    "        image = Image.open(path_image)\n",
    "        \n",
    "        #number of digits per image\n",
    "        num_digit = len(data['labels'][i])\n",
    "        #digit number of each given image label\n",
    "        labels[i,0] = num_digit\n",
    "        \n",
    "        #setting arrays for each digit and positional element of the bounding box\n",
    "        top = np.ndarray([num_digit], dtype='float32')\n",
    "        left = np.ndarray([num_digit], dtype='float32')\n",
    "        height = np.ndarray([num_digit], dtype='float32')\n",
    "        width = np.ndarray([num_digit], dtype='float32')\n",
    "        \n",
    "        #for each digit\n",
    "        for j in np.arange(num_digit):\n",
    "            if j < 4:\n",
    "                labels[i,j+1] = data['labels'][i][j]\n",
    "                if data['labels'][i][j] == 10: \n",
    "                    labels[i,j+1] = 0\n",
    "            else: \n",
    "                print('Image',i,' has to be deleted.') # Delete image with more than 4 digits\n",
    "                del_list.append(i)\n",
    "                                \n",
    "            #get bounding box per digit    \n",
    "            top[j] = data['tops'][i][j]\n",
    "            left[j] = data['lefts'][i][j]\n",
    "            height[j] = data['heights'][i][j]\n",
    "            width[j] = data['widths'][i][j]\n",
    "        \n",
    "        #finding extreme values from all digit bounding boxes to define the overall image bounding box\n",
    "        image_top = np.amin(top)\n",
    "        image_left = np.amin(left)\n",
    "        image_height = np.amax(top) + height[np.argmax(top)] - image_top\n",
    "        image_width = np.amax(left) + width[np.argmax(left)] - image_left\n",
    "        \n",
    "        image_top = np.floor(image_top - 0.1 * image_height)\n",
    "        image_left = np.floor(image_left - 0.1 * image_width)\n",
    "        image_bottom = np.amin([np.ceil(image_top + 1.2 * image_height), image.size[1]])\n",
    "        image_right = np.amin([np.ceil(image_left + 1.2 * image_width), image.size[0]])\n",
    "\n",
    "        #resizing/cropping images according to the bouding box information.\n",
    "        image = image.crop((image_left, image_top, image_right, image_bottom)).resize([32,32], Image.ANTIALIAS)\n",
    "        dataset[i,:,:,:] = image\n",
    "\n",
    "    return dataset, labels"
   ]
  },
  {
   "cell_type": "code",
   "execution_count": 75,
   "metadata": {
    "collapsed": false
   },
   "outputs": [
    {
     "name": "stdout",
     "output_type": "stream",
     "text": [
      "Image 4110  has to be deleted.\n",
      "Image 6738  has to be deleted.\n",
      "Image 15957  has to be deleted.\n",
      "Image 18262  has to be deleted.\n",
      "Image 18943  has to be deleted.\n",
      "Image 24040  has to be deleted.\n",
      "Image 24551  has to be deleted.\n",
      "Image 26698  has to be deleted.\n",
      "Image 29929  has to be deleted.\n",
      "Image 29929  has to be deleted.\n",
      "Image 33228  has to be deleted.\n"
     ]
    }
   ],
   "source": [
    "train_dataset,train_labels =create_dataset(\"train\",train_dataset)"
   ]
  },
  {
   "cell_type": "code",
   "execution_count": 72,
   "metadata": {
    "collapsed": false
   },
   "outputs": [],
   "source": [
    "def clean_dataset(dataset):\n",
    "    print(del_list)\n",
    "    print('before: ',dataset.shape)\n",
    "    for i in range(len(del_list)):\n",
    "        dataset = np.delete(dataset, del_list[i], axis=0)       \n",
    "    print('after: ',dataset.shape)"
   ]
  },
  {
   "cell_type": "code",
   "execution_count": 74,
   "metadata": {
    "collapsed": false
   },
   "outputs": [
    {
     "name": "stdout",
     "output_type": "stream",
     "text": [
      "[2998, 7313]\n"
     ]
    },
    {
     "ename": "AttributeError",
     "evalue": "'dict' object has no attribute 'shape'",
     "output_type": "error",
     "traceback": [
      "\u001b[0;31m---------------------------------------------------------------------------\u001b[0m",
      "\u001b[0;31mAttributeError\u001b[0m                            Traceback (most recent call last)",
      "\u001b[0;32m<ipython-input-74-446258682253>\u001b[0m in \u001b[0;36m<module>\u001b[0;34m()\u001b[0m\n\u001b[0;32m----> 1\u001b[0;31m \u001b[0mclean_dataset\u001b[0m\u001b[0;34m(\u001b[0m\u001b[0mtrain_dataset\u001b[0m\u001b[0;34m)\u001b[0m\u001b[0;34m\u001b[0m\u001b[0m\n\u001b[0m\u001b[1;32m      2\u001b[0m \u001b[0mclean_dataset\u001b[0m\u001b[0;34m(\u001b[0m\u001b[0mtrain_labels\u001b[0m\u001b[0;34m)\u001b[0m\u001b[0;34m\u001b[0m\u001b[0m\n",
      "\u001b[0;32m<ipython-input-72-a6e4b5cae135>\u001b[0m in \u001b[0;36mclean_dataset\u001b[0;34m(dataset)\u001b[0m\n\u001b[1;32m      1\u001b[0m \u001b[0;32mdef\u001b[0m \u001b[0mclean_dataset\u001b[0m\u001b[0;34m(\u001b[0m\u001b[0mdataset\u001b[0m\u001b[0;34m)\u001b[0m\u001b[0;34m:\u001b[0m\u001b[0;34m\u001b[0m\u001b[0m\n\u001b[1;32m      2\u001b[0m     \u001b[0;32mprint\u001b[0m\u001b[0;34m(\u001b[0m\u001b[0mdel_list\u001b[0m\u001b[0;34m)\u001b[0m\u001b[0;34m\u001b[0m\u001b[0m\n\u001b[0;32m----> 3\u001b[0;31m     \u001b[0;32mprint\u001b[0m\u001b[0;34m(\u001b[0m\u001b[0;34m'before: '\u001b[0m\u001b[0;34m,\u001b[0m\u001b[0mdataset\u001b[0m\u001b[0;34m.\u001b[0m\u001b[0mshape\u001b[0m\u001b[0;34m)\u001b[0m\u001b[0;34m\u001b[0m\u001b[0m\n\u001b[0m\u001b[1;32m      4\u001b[0m     \u001b[0;32mfor\u001b[0m \u001b[0mi\u001b[0m \u001b[0;32min\u001b[0m \u001b[0mrange\u001b[0m\u001b[0;34m(\u001b[0m\u001b[0mlen\u001b[0m\u001b[0;34m(\u001b[0m\u001b[0mdel_list\u001b[0m\u001b[0;34m)\u001b[0m\u001b[0;34m)\u001b[0m\u001b[0;34m:\u001b[0m\u001b[0;34m\u001b[0m\u001b[0m\n\u001b[1;32m      5\u001b[0m         \u001b[0mdataset\u001b[0m \u001b[0;34m=\u001b[0m \u001b[0mnp\u001b[0m\u001b[0;34m.\u001b[0m\u001b[0mdelete\u001b[0m\u001b[0;34m(\u001b[0m\u001b[0mdataset\u001b[0m\u001b[0;34m,\u001b[0m \u001b[0mdel_list\u001b[0m\u001b[0;34m[\u001b[0m\u001b[0mi\u001b[0m\u001b[0;34m]\u001b[0m\u001b[0;34m,\u001b[0m \u001b[0maxis\u001b[0m\u001b[0;34m=\u001b[0m\u001b[0;36m0\u001b[0m\u001b[0;34m)\u001b[0m\u001b[0;34m\u001b[0m\u001b[0m\n",
      "\u001b[0;31mAttributeError\u001b[0m: 'dict' object has no attribute 'shape'"
     ]
    }
   ],
   "source": [
    "clean_dataset(train_dataset)\n",
    "clean_dataset(train_labels)"
   ]
  },
  {
   "cell_type": "code",
   "execution_count": 69,
   "metadata": {
    "collapsed": false
   },
   "outputs": [
    {
     "name": "stdout",
     "output_type": "stream",
     "text": [
      "Image 2998  has to be deleted.\n",
      "Image 7313  has to be deleted.\n"
     ]
    }
   ],
   "source": [
    "\n",
    "\n",
    "test_dataset,test_labels =create_dataset(\"test\",test_dataset)\n",
    "\n"
   ]
  },
  {
   "cell_type": "code",
   "execution_count": 70,
   "metadata": {
    "collapsed": false
   },
   "outputs": [
    {
     "name": "stdout",
     "output_type": "stream",
     "text": [
      "[2998, 7313]\n",
      "before:  (13068, 32, 32, 3)\n",
      "after:  (13066, 32, 32, 3)\n",
      "[2998, 7313]\n",
      "before:  (13068, 6)\n",
      "after:  (13066, 6)\n"
     ]
    }
   ],
   "source": [
    "clean_dataset(test_dataset)\n",
    "clean_dataset(test_labels)"
   ]
  },
  {
   "cell_type": "code",
   "execution_count": 76,
   "metadata": {
    "collapsed": false
   },
   "outputs": [
    {
     "name": "stdout",
     "output_type": "stream",
     "text": [
      "Train:  (33402, 32, 32, 3) (33402, 6)\n",
      "Test:  (13068, 32, 32, 3) (13068, 6)\n"
     ]
    }
   ],
   "source": [
    "print('Train: ',train_dataset.shape, train_labels.shape)\n",
    "print('Test: ',test_dataset.shape, test_labels.shape)\n",
    "\n",
    "###why are the deleted images back in ???####"
   ]
  },
  {
   "cell_type": "code",
   "execution_count": 77,
   "metadata": {
    "collapsed": false
   },
   "outputs": [
    {
     "data": {
      "text/plain": [
       "<matplotlib.image.AxesImage at 0x7fcba02a5910>"
      ]
     },
     "execution_count": 77,
     "metadata": {},
     "output_type": "execute_result"
    },
    {
     "data": {
      "image/png": "[encoded data removed]",
      "text/plain": [
       "<matplotlib.figure.Figure at 0x7fcb9f9e8710>"
      ]
     },
     "metadata": {},
     "output_type": "display_data"
    }
   ],
   "source": [
    "img=train_dataset[100,:,:,:]\n",
    "plt.imshow(img)"
   ]
  },
  {
   "cell_type": "code",
   "execution_count": 78,
   "metadata": {
    "collapsed": false
   },
   "outputs": [],
   "source": [
    "np.random.seed(7)\n",
    "\n",
    "def shuffle(data, labels):\n",
    "    permut = np.random.permutation(labels.shape[0])\n",
    "    shuffled_dataset = data[permut,:,:,:]\n",
    "    shuffled_labels = labels[permut]\n",
    "    print('done deal')\n",
    "    return shuffled_dataset, shuffled_labels\n",
    "\n"
   ]
  },
  {
   "cell_type": "code",
   "execution_count": 79,
   "metadata": {
    "collapsed": false
   },
   "outputs": [
    {
     "name": "stdout",
     "output_type": "stream",
     "text": [
      "done deal\n"
     ]
    }
   ],
   "source": [
    "train_dataset, train_labels = shuffle(train_dataset, train_labels)\n"
   ]
  },
  {
   "cell_type": "code",
   "execution_count": 80,
   "metadata": {
    "collapsed": false
   },
   "outputs": [],
   "source": [
    "def greyimg(data): \n",
    "    coeff_red = 0.3\n",
    "    coeff_green = 0.6\n",
    "    coeff_blue = 0.1\n",
    "    data = data[:,:,:,0]*coeff_red+data[:,:,:,1]*coeff_green+data[:,:,:,2]*coeff_blue\n",
    "    return data\n",
    "\n",
    "train_dataset = greyimg(train_dataset)\n",
    "test_dataset = greyimg(test_dataset)"
   ]
  },
  {
   "cell_type": "code",
   "execution_count": 86,
   "metadata": {
    "collapsed": true
   },
   "outputs": [],
   "source": [
    "def meanset(dataset):\n",
    "    for i in range(0,dataset.shape[0]):\n",
    "        dataset[i,:,:]=(dataset[i,:,:]-dataset[i,:,:].mean())/dataset[i,:,:].std()\n",
    "    return dataset\n",
    "\n",
    "train_dataset=meanset(train_dataset)\n",
    "test_dataset=meanset(test_dataset)"
   ]
  },
  {
   "cell_type": "code",
   "execution_count": 87,
   "metadata": {
    "collapsed": false
   },
   "outputs": [
    {
     "name": "stdout",
     "output_type": "stream",
     "text": [
      "done deal\n"
     ]
    }
   ],
   "source": [
    "mlreadyfile = h5py.File('SVHN.hdf5')\n",
    "mlreadyfile['train_dataset']=train_dataset\n",
    "mlreadyfile['train_labels']=train_labels\n",
    "mlreadyfile['test_dataset']=test_dataset\n",
    "mlreadyfile['test_labels']=test_labels\n",
    "mlreadyfile.close()\n",
    "print('done deal')"
   ]
  },
  {
   "cell_type": "code",
   "execution_count": 88,
   "metadata": {
    "collapsed": false
   },
   "outputs": [
    {
     "name": "stdout",
     "output_type": "stream",
     "text": [
      "size: 192575872\n"
     ]
    }
   ],
   "source": [
    "statinfo = os.stat('SVHN.hdf5')\n",
    "print('size:', statinfo.st_size)\n"
   ]
  },
  {
   "cell_type": "code",
   "execution_count": null,
   "metadata": {
    "collapsed": true
   },
   "outputs": [],
   "source": []
  }
 ],
 "metadata": {
  "kernelspec": {
   "display_name": "Python 2",
   "language": "python",
   "name": "python2"
  },
  "language_info": {
   "codemirror_mode": {
    "name": "ipython",
    "version": 2
   },
   "file_extension": ".py",
   "mimetype": "text/x-python",
   "name": "python",
   "nbconvert_exporter": "python",
   "pygments_lexer": "ipython2",
   "version": "2.7.12"
  }
 },
 "nbformat": 4,
 "nbformat_minor": 2
}
